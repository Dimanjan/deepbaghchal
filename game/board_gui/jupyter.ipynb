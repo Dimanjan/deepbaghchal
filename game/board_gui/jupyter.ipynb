{
 "cells": [
  {
   "cell_type": "code",
   "execution_count": 1,
   "metadata": {},
   "outputs": [],
   "source": [
    "import sys, os\n",
    "sys.path.insert(0, str(os.path.dirname(os.getcwd())))\n",
    "from board import Board"
   ]
  },
  {
   "cell_type": "code",
   "execution_count": 2,
   "metadata": {},
   "outputs": [],
   "source": [
    "b=Board()"
   ]
  },
  {
   "cell_type": "code",
   "execution_count": 3,
   "metadata": {},
   "outputs": [],
   "source": [
    "def ijToInd(i,j):\n",
    "    return int(j*5 + i)\n"
   ]
  },
  {
   "cell_type": "code",
   "execution_count": 4,
   "metadata": {},
   "outputs": [
    {
     "data": {
      "text/plain": [
       "24"
      ]
     },
     "execution_count": 4,
     "metadata": {},
     "output_type": "execute_result"
    }
   ],
   "source": [
    "ijToInd(4,4)"
   ]
  },
  {
   "cell_type": "code",
   "execution_count": 30,
   "metadata": {},
   "outputs": [],
   "source": [
    "SCREEN_WIDTH = 1000\n",
    "SCREEN_HEIGHT = 0.7 * SCREEN_WIDTH\n",
    "\n",
    "MARGIN={\n",
    "    \"left\": SCREEN_WIDTH*0.38,\n",
    "    \"right\":SCREEN_WIDTH*0.2,\n",
    "    \"top\":SCREEN_HEIGHT*0.2,\n",
    "    \"bottom\": SCREEN_HEIGHT*0.2\n",
    "}\n",
    "boardWidth=SCREEN_WIDTH-MARGIN[\"left\"]-MARGIN[\"right\"]\n",
    "boardHeight=SCREEN_HEIGHT-MARGIN[\"top\"]-MARGIN[\"bottom\"]\n",
    "\n",
    "squareWidth=boardWidth/4\n",
    "squareHeight=boardHeight/4\n"
   ]
  },
  {
   "cell_type": "code",
   "execution_count": 47,
   "metadata": {},
   "outputs": [],
   "source": [
    "def xyToInd(x,y):\n",
    "    dx=x-MARGIN[\"left\"]+squareWidth/2\n",
    "    print('dx',dx)\n",
    "    i=int((dx//(squareWidth) ) )\n",
    "\n",
    "    dy= y-MARGIN[\"top\"]+squareHeight/2\n",
    "    print('dy',dy)\n",
    "\n",
    "    j=int((dy//squareHeight))\n",
    "\n",
    "    print('i,j ',i,j)\n",
    "    print('Index',ijToInd(i,j))\n",
    "    #return ijToInd(i,j)"
   ]
  },
  {
   "cell_type": "code",
   "execution_count": 48,
   "metadata": {},
   "outputs": [
    {
     "name": "stdout",
     "output_type": "stream",
     "text": [
      "ScreenWidth 1000 SCREEN_HEIGHT 700.0\n",
      "{'left': 380.0, 'right': 200.0, 'top': 140.0, 'bottom': 140.0}\n",
      "boardWidth 420.0 boardHeight 420.0 squareWidth 105.0 squareHeight 105.0\n"
     ]
    }
   ],
   "source": [
    "print('ScreenWidth',SCREEN_WIDTH,'SCREEN_HEIGHT',SCREEN_HEIGHT)\n",
    "print(MARGIN)\n",
    "print('boardWidth',boardWidth,'boardHeight',boardHeight,'squareWidth',squareWidth,'squareHeight',squareHeight)"
   ]
  },
  {
   "cell_type": "code",
   "execution_count": 51,
   "metadata": {},
   "outputs": [
    {
     "name": "stdout",
     "output_type": "stream",
     "text": [
      "dx 157.5\n",
      "dy 52.5\n",
      "i,j  4 0\n",
      "Index 4\n"
     ]
    }
   ],
   "source": [
    "xyToInd(380+squareWidth,MARGIN[\"top\"])"
   ]
  },
  {
   "cell_type": "code",
   "execution_count": null,
   "metadata": {},
   "outputs": [],
   "source": []
  }
 ],
 "metadata": {
  "kernelspec": {
   "display_name": "Python 3.6.8 64-bit",
   "language": "python",
   "name": "python3"
  },
  "language_info": {
   "codemirror_mode": {
    "name": "ipython",
    "version": 3
   },
   "file_extension": ".py",
   "mimetype": "text/x-python",
   "name": "python",
   "nbconvert_exporter": "python",
   "pygments_lexer": "ipython3",
   "version": "3.6.8"
  },
  "orig_nbformat": 4,
  "vscode": {
   "interpreter": {
    "hash": "46c5b148c974be58c6a55f6ce7e628c26ca603441918bb5a155f2d731e5a5c43"
   }
  }
 },
 "nbformat": 4,
 "nbformat_minor": 2
}
