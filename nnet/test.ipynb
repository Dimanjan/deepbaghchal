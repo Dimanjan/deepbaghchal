{
 "cells": [
  {
   "cell_type": "code",
   "execution_count": 1,
   "metadata": {},
   "outputs": [],
   "source": [
    "import  sys, os\n",
    "sys.path.insert(0, os.path.dirname(os.getcwd()))"
   ]
  },
  {
   "cell_type": "code",
   "execution_count": 3,
   "metadata": {},
   "outputs": [
    {
     "data": {
      "text/plain": [
       "'e:\\\\deepbaghchal\\\\deepbaghchal\\\\game'"
      ]
     },
     "execution_count": 3,
     "metadata": {},
     "output_type": "execute_result"
    }
   ],
   "source": [
    "os.path.dirname(os.getcwd())+'\\\\game'"
   ]
  },
  {
   "cell_type": "code",
   "execution_count": 2,
   "metadata": {},
   "outputs": [
    {
     "data": {
      "text/plain": [
       "[9, 8, 2, 3, 4]"
      ]
     },
     "execution_count": 2,
     "metadata": {},
     "output_type": "execute_result"
    }
   ],
   "source": [
    "[9,8]+[2,3,4]"
   ]
  },
  {
   "cell_type": "code",
   "execution_count": 3,
   "metadata": {},
   "outputs": [],
   "source": [
    "import numpy as np"
   ]
  },
  {
   "cell_type": "code",
   "execution_count": 16,
   "metadata": {},
   "outputs": [],
   "source": [
    "l=[2,3,4,5]\n",
    "n=np.array(l)"
   ]
  },
  {
   "cell_type": "code",
   "execution_count": 8,
   "metadata": {},
   "outputs": [
    {
     "data": {
      "text/plain": [
       "array([2, 3, 4, 5])"
      ]
     },
     "execution_count": 8,
     "metadata": {},
     "output_type": "execute_result"
    }
   ],
   "source": [
    "n"
   ]
  },
  {
   "cell_type": "code",
   "execution_count": 17,
   "metadata": {},
   "outputs": [
    {
     "data": {
      "text/plain": [
       "array([[2, 3],\n",
       "       [4, 5]])"
      ]
     },
     "execution_count": 17,
     "metadata": {},
     "output_type": "execute_result"
    }
   ],
   "source": [
    "n2=np.reshape(l, (2, 2))\n",
    "n2"
   ]
  },
  {
   "cell_type": "code",
   "execution_count": 14,
   "metadata": {},
   "outputs": [
    {
     "data": {
      "text/plain": [
       "array([[3, 2],\n",
       "       [5, 4]])"
      ]
     },
     "execution_count": 14,
     "metadata": {},
     "output_type": "execute_result"
    }
   ],
   "source": [
    "np.fliplr(n2)"
   ]
  },
  {
   "cell_type": "code",
   "execution_count": 15,
   "metadata": {},
   "outputs": [
    {
     "data": {
      "text/plain": [
       "array([[4, 5],\n",
       "       [2, 3]])"
      ]
     },
     "execution_count": 15,
     "metadata": {},
     "output_type": "execute_result"
    }
   ],
   "source": [
    "np.flipud(n2)"
   ]
  },
  {
   "cell_type": "code",
   "execution_count": 18,
   "metadata": {},
   "outputs": [],
   "source": [
    "ALL_MOVES=['G00','G01', 'G02', 'G03','G04', 'G05', 'G06', 'G07', 'G08', 'G09', 'G10',\n",
    "       'G11', 'G12', 'G13', 'G14', 'G15', 'G16', 'G17', 'G18', 'G19','G20',\n",
    "       'G21', 'G22', 'G23','G24',\n",
    "       'G0500', 'G0100', 'G0600', 'G0601', 'G0001', 'G0201', 'G0702',\n",
    "       'G0102', 'G0302', 'G0802', 'G0602', 'G0803', 'G0203', 'G0403',\n",
    "       'G0904', 'G0304', 'G0804', 'G0005', 'G1005', 'G0605', 'G0106',\n",
    "       'G1106', 'G0506', 'G0706', 'G0006', 'G1206', 'G0206', 'G1006',\n",
    "       'G0207', 'G1207', 'G0607', 'G0807', 'G0308', 'G1308', 'G0708',\n",
    "       'G0908', 'G0208', 'G1408', 'G0408', 'G1208', 'G0409', 'G1409',\n",
    "       'G0809', 'G0510', 'G1510', 'G1110', 'G1610', 'G0610', 'G0611',\n",
    "       'G1611', 'G1011', 'G1211', 'G0712', 'G1712', 'G1112', 'G1312',\n",
    "       'G0612', 'G1812', 'G0812', 'G1612', 'G0813', 'G1813', 'G1213',\n",
    "       'G1413', 'G0914', 'G1914', 'G1314', 'G0814', 'G1814', 'G1015',\n",
    "       'G2015', 'G1615', 'G1116', 'G2116', 'G1516', 'G1716', 'G1016',\n",
    "       'G2216', 'G1216', 'G2016', 'G1217', 'G2217', 'G1617', 'G1817',\n",
    "       'G1318', 'G2318', 'G1718', 'G1918', 'G1218', 'G2418', 'G1418',\n",
    "       'G2218', 'G1419', 'G2419', 'G1819', 'G1520', 'G2120', 'G1620',\n",
    "       'G1621', 'G2021', 'G2221', 'G1722', 'G2122', 'G2322', 'G1622',\n",
    "       'G1822', 'G1823', 'G2223', 'G2423', 'G1924', 'G2324', 'G1824',\n",
    "       'nomovegoat',\n",
    "       'B0500', 'B0100', 'B0600', 'B0601', 'B0001', 'B0201', 'B0702',\n",
    "       'B0102', 'B0302', 'B0802', 'B0602', 'B0803', 'B0203', 'B0403',\n",
    "       'B0904', 'B0304', 'B0804', 'B0005', 'B1005', 'B0605', 'B0106',\n",
    "       'B1106', 'B0506', 'B0706', 'B0006', 'B1206', 'B0206', 'B1006',\n",
    "       'B0207', 'B1207', 'B0607', 'B0807', 'B0308', 'B1308', 'B0708',\n",
    "       'B0908', 'B0208', 'B1408', 'B0408', 'B1208', 'B0409', 'B1409',\n",
    "       'B0809', 'B0510', 'B1510', 'B1110', 'B1610', 'B0610', 'B0611',\n",
    "       'B1611', 'B1011', 'B1211', 'B0712', 'B1712', 'B1112', 'B1312',\n",
    "       'B0612', 'B1812', 'B0812', 'B1612', 'B0813', 'B1813', 'B1213',\n",
    "       'B1413', 'B0914', 'B1914', 'B1314', 'B0814', 'B1814', 'B1015',\n",
    "       'B2015', 'B1615', 'B1116', 'B2116', 'B1516', 'B1716', 'B1016',\n",
    "       'B2216', 'B1216', 'B2016', 'B1217', 'B2217', 'B1617', 'B1817',\n",
    "       'B1318', 'B2318', 'B1718', 'B1918', 'B1218', 'B2418', 'B1418',\n",
    "       'B2218', 'B1419', 'B2419', 'B1819', 'B1520', 'B2120', 'B1620',\n",
    "       'B1621', 'B2021', 'B2221', 'B1722', 'B2122', 'B2322', 'B1622',\n",
    "       'B1822', 'B1823', 'B2223', 'B2423', 'B1924', 'B2324', 'B1824',\n",
    "       'B100005', 'B020001', 'B120006', 'B110106', 'B030102', 'B120207',\n",
    "       'B000201', 'B040203', 'B140208', 'B100206', 'B130308', 'B010302',\n",
    "       'B140409', 'B020403', 'B120408', 'B150510', 'B070506', 'B160611',\n",
    "       'B080607', 'B180612', 'B170712', 'B050706', 'B090708', 'B180813',\n",
    "       'B060807', 'B160812', 'B190914', 'B070908', 'B001005', 'B201015',\n",
    "       'B121011', 'B221016', 'B021006', 'B011106', 'B211116', 'B131112',\n",
    "       'B021207', 'B221217', 'B101211', 'B141213', 'B001206', 'B241218',\n",
    "       'B041208', 'B201216', 'B031308', 'B231318', 'B111312', 'B041409',\n",
    "       'B241419', 'B121413', 'B021408', 'B221418', 'B051510', 'B171516',\n",
    "       'B061611', 'B181617', 'B081612', 'B071712', 'B151716', 'B191718',\n",
    "       'B081813', 'B161817', 'B061812', 'B091914', 'B171918', 'B102015',\n",
    "       'B222021', 'B122016', 'B112116', 'B232122', 'B122217', 'B202221',\n",
    "       'B242223', 'B102216', 'B142218', 'B132318', 'B212322', 'B142419',\n",
    "       'B222423', 'B122418',\n",
    "       'nomovebagh']\n",
    "\n"
   ]
  },
  {
   "cell_type": "code",
   "execution_count": 19,
   "metadata": {},
   "outputs": [
    {
     "data": {
      "text/plain": [
       "331"
      ]
     },
     "execution_count": 19,
     "metadata": {},
     "output_type": "execute_result"
    }
   ],
   "source": [
    "len(ALL_MOVES)"
   ]
  },
  {
   "cell_type": "code",
   "execution_count": 20,
   "metadata": {},
   "outputs": [],
   "source": [
    "aa=np.array(ALL_MOVES)"
   ]
  },
  {
   "cell_type": "code",
   "execution_count": 24,
   "metadata": {},
   "outputs": [
    {
     "data": {
      "text/plain": [
       "array([False, False,  True,  True,  True,  True,  True,  True, False,\n",
       "       False, False, False, False, False, False, False, False, False,\n",
       "       False, False, False, False, False, False, False, False, False,\n",
       "       False, False, False, False, False, False, False, False, False,\n",
       "       False, False, False, False, False, False, False, False, False,\n",
       "       False, False, False, False, False, False, False, False, False,\n",
       "       False, False, False, False, False, False, False, False, False,\n",
       "       False, False, False, False, False, False, False, False, False,\n",
       "       False, False, False, False, False, False, False, False, False,\n",
       "       False, False, False, False, False, False, False, False, False,\n",
       "       False, False, False, False, False, False, False, False, False,\n",
       "       False, False, False, False, False, False, False, False, False,\n",
       "       False, False, False, False, False, False, False, False, False,\n",
       "       False, False, False, False, False, False, False, False, False,\n",
       "       False, False, False, False, False, False, False, False, False,\n",
       "       False, False, False, False, False, False, False, False, False,\n",
       "       False, False, False, False, False, False, False, False, False,\n",
       "       False, False, False, False, False, False, False, False, False,\n",
       "       False, False, False, False, False, False, False, False, False,\n",
       "       False, False, False, False, False, False, False, False, False,\n",
       "       False, False, False, False, False, False, False, False, False,\n",
       "       False, False, False, False, False, False, False, False, False,\n",
       "       False, False,  True, False, False, False, False, False, False,\n",
       "       False, False, False, False, False, False, False, False, False,\n",
       "       False, False, False, False, False, False, False, False, False,\n",
       "       False, False, False, False, False, False, False, False, False,\n",
       "       False, False, False, False, False, False, False, False, False,\n",
       "       False, False, False, False, False, False, False, False, False,\n",
       "       False, False, False, False, False, False, False, False, False,\n",
       "       False, False, False, False, False, False, False, False, False,\n",
       "       False, False, False, False, False, False, False, False, False,\n",
       "       False, False, False, False, False, False, False, False, False,\n",
       "       False, False, False, False, False, False, False, False, False,\n",
       "       False, False, False, False, False, False, False, False, False,\n",
       "       False, False, False, False, False, False, False, False, False,\n",
       "       False, False, False, False, False, False, False, False, False,\n",
       "       False, False, False, False, False, False,  True])"
      ]
     },
     "execution_count": 24,
     "metadata": {},
     "output_type": "execute_result"
    }
   ],
   "source": [
    "np.in1d(ALL_MOVES, ['B1213','G02', 'G03','G04', 'G05', 'G06', 'G07','nomovebagh'])"
   ]
  },
  {
   "cell_type": "code",
   "execution_count": null,
   "metadata": {},
   "outputs": [],
   "source": []
  }
 ],
 "metadata": {
  "kernelspec": {
   "display_name": "Python 3.6.8 64-bit",
   "language": "python",
   "name": "python3"
  },
  "language_info": {
   "codemirror_mode": {
    "name": "ipython",
    "version": 3
   },
   "file_extension": ".py",
   "mimetype": "text/x-python",
   "name": "python",
   "nbconvert_exporter": "python",
   "pygments_lexer": "ipython3",
   "version": "3.6.8"
  },
  "orig_nbformat": 4,
  "vscode": {
   "interpreter": {
    "hash": "46c5b148c974be58c6a55f6ce7e628c26ca603441918bb5a155f2d731e5a5c43"
   }
  }
 },
 "nbformat": 4,
 "nbformat_minor": 2
}
